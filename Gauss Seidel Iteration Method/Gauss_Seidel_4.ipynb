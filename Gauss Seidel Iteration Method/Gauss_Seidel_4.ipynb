{
 "cells": [
  {
   "cell_type": "code",
   "execution_count": 1,
   "id": "b84c41c3",
   "metadata": {},
   "outputs": [
    {
     "name": "stdout",
     "output_type": "stream",
     "text": [
      "[[ 1.]\n",
      " [-1.]\n",
      " [ 1.]]\n"
     ]
    }
   ],
   "source": [
    "# Apply Gauss Seidel Method to solve the system of equations\n",
    "# 20x+y-2z = 17, 3x+20y-z = -18, 2x-3y+20z = 25\n",
    "from numpy import *\n",
    "def seidel (a, x, b):\n",
    "    n = len (a)\n",
    "    for j in range (0, n):\n",
    "        d = b[j]\n",
    "        for i in range(0, n):\n",
    "            if (j != i):\n",
    "                 d = d-a[j][i]*x[i]\n",
    "        x[j] = d / a[j][j]\n",
    "    return x\n",
    "a = array([[20.0,1.0,-2.0],[3.0,20.0,-1.0],[2.0,-3.0,20.0]])\n",
    "x = array([[0.0],[0.0],[0.0]])\n",
    "b = array([[17.0],[-18.0],[25.0]])\n",
    "for i in range(0, 25):\n",
    "    x = seidel (a, x, b)\n",
    "print(x)"
   ]
  }
 ],
 "metadata": {
  "kernelspec": {
   "display_name": "Python 3 (ipykernel)",
   "language": "python",
   "name": "python3"
  },
  "language_info": {
   "codemirror_mode": {
    "name": "ipython",
    "version": 3
   },
   "file_extension": ".py",
   "mimetype": "text/x-python",
   "name": "python",
   "nbconvert_exporter": "python",
   "pygments_lexer": "ipython3",
   "version": "3.9.7"
  }
 },
 "nbformat": 4,
 "nbformat_minor": 5
}
