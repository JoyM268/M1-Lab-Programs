{
 "cells": [
  {
   "cell_type": "code",
   "execution_count": 15,
   "metadata": {
    "colab": {
     "base_uri": "https://localhost:8080/"
    },
    "executionInfo": {
     "elapsed": 5488,
     "status": "ok",
     "timestamp": 1678172024339,
     "user": {
      "displayName": "Joy Mascarenhas",
      "userId": "15267716422336630008"
     },
     "user_tz": -330
    },
    "id": "CZwscL5fgyXQ",
    "outputId": "2353f2df-e329-4511-a8b0-78310bd532c6"
   },
   "outputs": [
    {
     "name": "stdout",
     "output_type": "stream",
     "text": [
      "Enter tolerable error: 0.001\n",
      "Iteration\t x\t y\t z\t\n",
      "0\t\t0.3333\t1.3333\t0.6667\n",
      "\n",
      "1\t\t0.3333\t1.6667\t0.7778\n",
      "\n"
     ]
    }
   ],
   "source": [
    "#Solve 3x-y+2z=1; x+2y-z=3; 2x-2y+6z=2 by Gauss-Seidel Iteration method.\n",
    "f1=lambda x,y,z:(1+y-2*z)/3\n",
    "f2=lambda x,y,z:(3-x+z)/2\n",
    "f3=lambda x,y,z:(2-2*x+2*y)/6\n",
    "x0,y0,z0 = 0,0,0\n",
    "e=float(input(\"Enter tolerable error: \"))\n",
    "print(\"Iteration\\t x\\t y\\t z\\t\")\n",
    "for i in range(0,25):\n",
    "    x1=f1(x0,y0,z0) \n",
    "    y1=f2(x1,y0,z0)\n",
    "    z1=f3(x1,y1,z0)\n",
    "    print(\"%d\\t\\t%0.4f\\t%0.4f\\t%0.4f\\n\" %(i,x1,y1,z1)) \n",
    "    e1=abs(x0-x1);\n",
    "    e2=abs(y0-y1); \n",
    "    e3=abs(z0-z1);\n",
    "    x0 = x1\n",
    "    y0 = y1 \n",
    "    z0 = z1\n",
    "    if e1>e and e2>e and e3>e: \n",
    "        continue\n",
    "    else: \n",
    "        break\n",
    "    print('\\nSolution: x=%0.3f, y=%0.3f and z=%0.3f\\n'%(x1,y1,z1))"
   ]
  },

 ],
 "metadata": {
  "colab": {
   "authorship_tag": "ABX9TyO2amo45z9cs7wiDnbo+eQx",
   "provenance": []
  },
  "kernelspec": {
   "display_name": "Python 3 (ipykernel)",
   "language": "python",
   "name": "python3"
  },
  "language_info": {
   "codemirror_mode": {
    "name": "ipython",
    "version": 3
   },
   "file_extension": ".py",
   "mimetype": "text/x-python",
   "name": "python",
   "nbconvert_exporter": "python",
   "pygments_lexer": "ipython3",
   "version": "3.9.7"
  }
 },
 "nbformat": 4,
 "nbformat_minor": 1
}
