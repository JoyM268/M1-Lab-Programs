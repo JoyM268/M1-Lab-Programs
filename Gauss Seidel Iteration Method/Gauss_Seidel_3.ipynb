{
 "cells": [
  {
   "cell_type": "code",
   "execution_count": 2,
   "id": "4be36aec",
   "metadata": {},
   "outputs": [
    {
     "name": "stdout",
     "output_type": "stream",
     "text": [
      "[[1.]\n",
      " [1.]\n",
      " [1.]]\n"
     ]
    }
   ],
   "source": [
    "# Solve the system of equations by gauss-seidel method\n",
    "# 10x + y + z = 12, x + 10y + z = 12, x + y + 10z = 12\n",
    "from numpy import *\n",
    "import sys\n",
    "def seidel(a, x, b):\n",
    "    n = len(a)\n",
    "    for j in range (0, n):\n",
    "        d = b[j]\n",
    "        for i in range (0, n):\n",
    "            if(j != i):\n",
    "                d = d - a[j][i] * x[i]\n",
    "        x[j]= d/a[j][j]\n",
    "    return x\n",
    "a = array([[10.0, 1.0, 1.0], [ 1.0, 10.0, 1.0], [1.0, 1.0, 10.0]])\n",
    "x = array([[1.0], [0.0], [0.0]])\n",
    "b = array([[12.0], [12.0], [12.0]])\n",
    "for i in range(0,len (a)):\n",
    "    asum=0\n",
    "    for j in range(0, len (a)):\n",
    "        if(i != j):\n",
    "            asum = asum + abs(a[i][j])\n",
    "    if(asum <= a[i][i]):\n",
    "        continue\n",
    "    else:\n",
    "        sys.exit(\"The system is not diagonally dominant\")\n",
    "for i in range(0, 25):\n",
    "    x = seidel (a, x, b)\n",
    "print (x)"
   ]
  }
 ],
 "metadata": {
  "kernelspec": {
   "display_name": "Python 3 (ipykernel)",
   "language": "python",
   "name": "python3"
  },
  "language_info": {
   "codemirror_mode": {
    "name": "ipython",
    "version": 3
   },
   "file_extension": ".py",
   "mimetype": "text/x-python",
   "name": "python",
   "nbconvert_exporter": "python",
   "pygments_lexer": "ipython3",
   "version": "3.9.7"
  }
 },
 "nbformat": 4,
 "nbformat_minor": 5
}
