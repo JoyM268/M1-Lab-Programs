{
 "cells": [
  {
   "cell_type": "code",
   "execution_count": 1,
   "id": "f7868581",
   "metadata": {},
   "outputs": [
    {
     "name": "stdout",
     "output_type": "stream",
     "text": [
      "Eigenvalue: 6.001465559355154\n",
      "Eigenvector: [0.5003663 1.        0.5003663]\n"
     ]
    }
   ],
   "source": [
    "# Compute numerically largest eigen value of\n",
    "#     |1 1 3|\n",
    "# P = |1 5 1| by power method\n",
    "#     |3 1 1|\n",
    "import numpy as np\n",
    "def normalize(x):\n",
    "    fac = abs(x).max()\n",
    "    x_n = x / x.max()\n",
    "    return fac, x_n\n",
    "x = np.array([1,1,1])\n",
    "a = np.array([[1,1,3], [1,5,1], [3,1,1]])\n",
    "for i in range (10):\n",
    "    x = np.dot (a, x)\n",
    "    lambda_1, x = normalize(x)\n",
    "print('Eigenvalue:', lambda_1)\n",
    "print('Eigenvector:', x)"
   ]
  }
 ],
 "metadata": {
  "kernelspec": {
   "display_name": "Python 3 (ipykernel)",
   "language": "python",
   "name": "python3"
  },
  "language_info": {
   "codemirror_mode": {
    "name": "ipython",
    "version": 3
   },
   "file_extension": ".py",
   "mimetype": "text/x-python",
   "name": "python",
   "nbconvert_exporter": "python",
   "pygments_lexer": "ipython3",
   "version": "3.9.7"
  }
 },
 "nbformat": 4,
 "nbformat_minor": 5
}
