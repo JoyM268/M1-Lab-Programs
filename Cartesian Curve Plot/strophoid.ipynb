{
 "cells": [
  {
   "cell_type": "code",
   "execution_count": null,
   "id": "e5c48f89",
   "metadata": {},
   "outputs": [],
   "source": [
    "from sympy import plot_implicit, symbols, Eq\n",
    "%matplotlib inline\n",
    "x,y = symbols('x y')\n",
    "p3 = plot_implicit(Eq(y**2*(2-x),x**2*(2+x)),(x,-5,5),(y,-5,5),title = 'strophoid: y^2*(a-x) = x^2*(a+x),a>0')"
   ]
  },
  {
   "cell_type": "code",
   "execution_count": null,
   "id": "98e028ae",
   "metadata": {},
   "outputs": [],
   "source": []
  },
  {
   "cell_type": "code",
   "execution_count": null,
   "id": "daa49567",
   "metadata": {},
   "outputs": [],
   "source": []
  }
 ],
 "metadata": {
  "kernelspec": {
   "display_name": "Python 3 (ipykernel)",
   "language": "python",
   "name": "python3"
  },
  "language_info": {
   "codemirror_mode": {
    "name": "ipython",
    "version": 3
   },
   "file_extension": ".py",
   "mimetype": "text/x-python",
   "name": "python",
   "nbconvert_exporter": "python",
   "pygments_lexer": "ipython3",
   "version": "3.9.7"
  }
 },
 "nbformat": 4,
 "nbformat_minor": 5
}
