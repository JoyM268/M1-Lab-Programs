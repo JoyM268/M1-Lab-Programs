{
 "cells": [
  {
   "cell_type": "code",
   "execution_count": null,
   "id": "aa61f233",
   "metadata": {},
   "outputs": [],
   "source": [
    "from sympy import plot_implicit, Eq, symbols\n",

    "x,y=symbols('x y')\n",
    "p2 = plot_implicit(Eq(x**(2)+y**(2),3**(2)),(x,-5,5),(y,-5,5),title='Asteroid: x^(2/3)+y^(2/3)=3^(2/3)')"
   ]
  },
  {
   "cell_type": "code",
   "execution_count": null,
   "id": "05a6789a",
   "metadata": {},
   "outputs": [],
   "source": []
  }
 ],
 "metadata": {
  "kernelspec": {
   "display_name": "Python 3 (ipykernel)",
   "language": "python",
   "name": "python3"
  },
  "language_info": {
   "codemirror_mode": {
    "name": "ipython",
    "version": 3
   },
   "file_extension": ".py",
   "mimetype": "text/x-python",
   "name": "python",
   "nbconvert_exporter": "python",
   "pygments_lexer": "ipython3",
   "version": "3.9.7"
  }
 },
 "nbformat": 4,
 "nbformat_minor": 5
}
