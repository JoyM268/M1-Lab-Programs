{
 "cells": [
  {
   "cell_type": "code",
   "execution_count": 7,
   "id": "73ca1e16",
   "metadata": {},
   "outputs": [
    {
     "data": {
      "image/png": "[encoded data removed]",
      "text/latex": [
       "$\\displaystyle \\left[ y{\\left(x \\right)} = \\sqrt[3]{\\frac{x^{3}}{C_{1} + 3 \\sin{\\left(x \\right)}}}, \\  y{\\left(x \\right)} = \\frac{\\sqrt[3]{\\frac{x^{3}}{C_{1} + 3 \\sin{\\left(x \\right)}}} \\left(-1 - \\sqrt{3} i\\right)}{2}, \\  y{\\left(x \\right)} = \\frac{\\sqrt[3]{\\frac{x^{3}}{C_{1} + 3 \\sin{\\left(x \\right)}}} \\left(-1 + \\sqrt{3} i\\right)}{2}\\right]$"
      ],
      "text/plain": [
       "⎡                                         _______________        \n",
       "⎢                                        ╱        3              \n",
       "⎢            _______________            ╱        x               \n",
       "⎢           ╱        3               3 ╱   ───────────── ⋅(-1 - √\n",
       "⎢          ╱        x                ╲╱    C₁ + 3⋅sin(x)         \n",
       "⎢y(x) = 3 ╱   ───────────── , y(x) = ────────────────────────────\n",
       "⎣       ╲╱    C₁ + 3⋅sin(x)                         2            \n",
       "\n",
       "                  _______________            ⎤\n",
       "                 ╱        3                  ⎥\n",
       "                ╱        x                   ⎥\n",
       "3⋅ⅈ)         3 ╱   ───────────── ⋅(-1 + √3⋅ⅈ)⎥\n",
       "             ╲╱    C₁ + 3⋅sin(x)             ⎥\n",
       "────, y(x) = ────────────────────────────────⎥\n",
       "                            2                ⎦"
      ]
     },
     "metadata": {},
     "output_type": "display_data"
    }
   ],
   "source": [
    "#x^3 dy/dx - x^2 y + y^4 cosx = 0\n",
    "from sympy import *\n",
    "x,y = symbols('x,y')\n",
    "y = Function(\"y\")(x)\n",
    "y1 = Derivative(y,x)\n",
    "z1 = dsolve(Eq(x**3*y1-x**2*y+y**4*cos(x),0),y)\n",
    "display(z1)"
   ]
  }
 ],
 "metadata": {
  "kernelspec": {
   "display_name": "Python 3 (ipykernel)",
   "language": "python",
   "name": "python3"
  },
  "language_info": {
   "codemirror_mode": {
    "name": "ipython",
    "version": 3
   },
   "file_extension": ".py",
   "mimetype": "text/x-python",
   "name": "python",
   "nbconvert_exporter": "python",
   "pygments_lexer": "ipython3",
   "version": "3.9.7"
  }
 },
 "nbformat": 4,
 "nbformat_minor": 5
}
