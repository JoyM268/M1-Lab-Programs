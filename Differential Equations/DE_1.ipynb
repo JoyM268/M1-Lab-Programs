{
 "cells": [
  {
   "cell_type": "code",
   "execution_count": 3,
   "id": "931875b2",
   "metadata": {},
   "outputs": [
    {
     "name": "stdout",
     "output_type": "stream",
     "text": [
      "\n",
      "Differential Equation\n"
     ]
    },
    {
     "data": {
      "image/png": "[encoded data removed]",
      "text/latex": [
       "$\\displaystyle - r + \\frac{d}{d t} P{\\left(t \\right)}$"
      ],
      "text/plain": [
       "     d       \n",
       "-r + ──(P(t))\n",
       "     dt      "
      ]
     },
     "metadata": {},
     "output_type": "display_data"
    },
    {
     "name": "stdout",
     "output_type": "stream",
     "text": [
      "\n",
      "General Solution\n"
     ]
    },
    {
     "data": {
      "image/png": "[encoded data removed]",
      "text/latex": [
       "$\\displaystyle P{\\left(t \\right)} = C_{1} + r t$"
      ],
      "text/plain": [
       "P(t) = C₁ + r⋅t"
      ]
     },
     "metadata": {},
     "output_type": "display_data"
    },
    {
     "name": "stdout",
     "output_type": "stream",
     "text": [
      "\n",
      "Particular Solution\n"
     ]
    },
    {
     "data": {
      "image/png": "[encoded data removed]",
      "text/latex": [
       "$\\displaystyle P{\\left(t \\right)} = r t + 2$"
      ],
      "text/plain": [
       "P(t) = r⋅t + 2"
      ]
     },
     "metadata": {},
     "output_type": "display_data"
    }
   ],
   "source": [
    "#Solve dP(t)/dt = r\n",
    "from sympy import *\n",
    "\n",
    "init_printing()\n",
    "\n",
    "t,r = symbols ('t, r')\n",
    "\n",
    "P=Function ('P')(t)\n",
    "\n",
    "C1=Symbol('C1')\n",
    "\n",
    "print (\"\\nDifferential Equation\")\n",
    "\n",
    "DE1=Derivative(P, t, 1)-r\n",
    "display(DE1)\n",
    "\n",
    "print (\"\\nGeneral Solution\")\n",
    "\n",
    "GS1=dsolve(DE1)\n",
    "display (GS1)   \n",
    "\n",
    "print (\"\\nParticular Solution\")\n",
    "\n",
    "PS1=GS1.subs ({C1:2})\n",
    "display (PS1)"
   ]
  }
 ],
 "metadata": {
  "kernelspec": {
   "display_name": "Python 3 (ipykernel)",
   "language": "python",
   "name": "python3"
  },
  "language_info": {
   "codemirror_mode": {
    "name": "ipython",
    "version": 3
   },
   "file_extension": ".py",
   "mimetype": "text/x-python",
   "name": "python",
   "nbconvert_exporter": "python",
   "pygments_lexer": "ipython3",
   "version": "3.9.7"
  }
 },
 "nbformat": 4,
 "nbformat_minor": 5
}
