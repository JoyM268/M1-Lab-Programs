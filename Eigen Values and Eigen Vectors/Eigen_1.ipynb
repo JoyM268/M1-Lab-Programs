{
 "cells": [
  {
   "cell_type": "code",
   "execution_count": 6,
   "metadata": {
    "colab": {
     "base_uri": "https://localhost:8080/"
    },
    "executionInfo": {
     "elapsed": 27,
     "status": "ok",
     "timestamp": 1678617235204,
     "user": {
      "displayName": "Joy Mascarenhas",
      "userId": "15267716422336630008"
     },
     "user_tz": -330
    },
    "id": "9FAQg54JQ9Mr",
    "outputId": "0e0854cb-7035-4bf2-d228-7b375cbfd925"
   },
   "outputs": [
    {
     "name": "stdout",
     "output_type": "stream",
     "text": [
      "\n",
      " Given matrix: \n",
      " [[ 4  3  2]\n",
      " [ 1  4  1]\n",
      " [ 3 10  4]]\n",
      "\n",
      " Eigen values: \n",
      " [8.98205672 2.12891771 0.88902557]\n",
      "\n",
      " Eigen vectors: \n",
      " [[-0.49247712 -0.82039552 -0.42973429]\n",
      " [-0.26523242  0.14250681 -0.14817858]\n",
      " [-0.82892584  0.55375355  0.89071407]]\n",
      "\n",
      " Eigen value:\n",
      " 8.982056720677654\n",
      "\n",
      " Corresponding Eigen vector :  [-0.49247712 -0.26523242 -0.82892584]\n"
     ]
    }
   ],
   "source": [
    "# Obtain Eigen values and Eigen vector for the given matrix\n",
    "# |4  3  2|\n",
    "# |1  4  1|\n",
    "# |3  10 4|\n",
    "import numpy as np\n",
    "I = np.array([[4,3,2], [1,4,1], [3,10,4]])\n",
    "print(\"\\n Given matrix: \\n\", I)\n",
    "w,v = np.linalg.eig(I)\n",
    "print(\"\\n Eigen values: \\n\", w)\n",
    "print(\"\\n Eigen vectors: \\n\", v)\n",
    "print(\"\\n Eigen value:\\n\", w[0])\n",
    "print(\"\\n Corresponding Eigen vector : \", v[:,0])"
   ]
  }
 ],
 "metadata": {
  "colab": {
   "authorship_tag": "ABX9TyMG3syZMbcaZofcK+ULx7Ai",
   "provenance": []
  },
  "kernelspec": {
   "display_name": "Python 3 (ipykernel)",
   "language": "python",
   "name": "python3"
  },
  "language_info": {
   "codemirror_mode": {
    "name": "ipython",
    "version": 3
   },
   "file_extension": ".py",
   "mimetype": "text/x-python",
   "name": "python",
   "nbconvert_exporter": "python",
   "pygments_lexer": "ipython3",
   "version": "3.9.7"
  }
 },
 "nbformat": 4,
 "nbformat_minor": 1
}
