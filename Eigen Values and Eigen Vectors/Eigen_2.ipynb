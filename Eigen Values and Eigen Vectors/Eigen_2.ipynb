{
 "cells": [
  {
   "cell_type": "code",
   "execution_count": null,
   "metadata": {
    "colab": {
     "base_uri": "https://localhost:8080/"
    },
    "executionInfo": {
     "elapsed": 61,
     "status": "ok",
     "timestamp": 1678617306980,
     "user": {
      "displayName": "Joy Mascarenhas",
      "userId": "15267716422336630008"
     },
     "user_tz": -330
    },
    "id": "9yYYQj1YYwjf",
    "outputId": "5470009e-0839-4e3f-af08-f2dc2354c1c4"
   },
   "outputs": [
    {
     "name": "stdout",
     "output_type": "stream",
     "text": [
      "\n",
      " Given matrix: \n",
      " [[ 1 -3  3]\n",
      " [ 3 -5  3]\n",
      " [ 6 -6  4]]\n",
      "\n",
      " Eigen values: \n",
      " [ 4.+0.00000000e+00j -2.+1.10465796e-15j -2.-1.10465796e-15j]\n",
      "\n",
      " Eigen vectors: \n",
      " [[-0.40824829+0.j          0.24400118-0.40702229j  0.24400118+0.40702229j]\n",
      " [-0.40824829+0.j         -0.41621909-0.40702229j -0.41621909+0.40702229j]\n",
      " [-0.81649658+0.j         -0.66022027+0.j         -0.66022027-0.j        ]]\n"
     ]
    }
   ],
   "source": [
    "# Obtain Eigen values and Eigen vector for the given matrix\n",
    "# |1  -3  3|\n",
    "# |3  -5  3|\n",
    "# |6  -6  4|\n",
    "import numpy as np \n",
    "I = np.array([[1,-3,3], [3,-5,3], [6,-6,4]])\n",
    "print(\"\\n Given matrix: \\n\", I)\n",
    "w,v = np.linalg.eig(I)\n",
    "print(\"\\n Eigen values: \\n\", w)\n",
    "print(\"\\n Eigen vectors: \\n\", v)"
   ]
  }
 ],
 "metadata": {
  "colab": {
   "authorship_tag": "ABX9TyOqFpr3LnrJD4e/84eaJOUq",
   "provenance": []
  },
  "kernelspec": {
   "display_name": "Python 3 (ipykernel)",
   "language": "python",
   "name": "python3"
  },
  "language_info": {
   "codemirror_mode": {
    "name": "ipython",
    "version": 3
   },
   "file_extension": ".py",
   "mimetype": "text/x-python",
   "name": "python",
   "nbconvert_exporter": "python",
   "pygments_lexer": "ipython3",
   "version": "3.9.7"
  }
 },
 "nbformat": 4,
 "nbformat_minor": 1
}
