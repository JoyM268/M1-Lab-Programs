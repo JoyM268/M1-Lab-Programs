{
 "cells": [
  {
   "cell_type": "code",
   "execution_count": 1,
   "id": "a2489441",
   "metadata": {},
   "outputs": [
    {
     "name": "stdout",
     "output_type": "stream",
     "text": [
      "\n",
      " Given matrix: \n",
      " [[ 1 -3  3]\n",
      " [ 3 -5  3]\n",
      " [ 6 -6  4]]\n",
      "\n",
      " Eigen values: \n",
      " [ 4. -2. -2.]\n",
      "\n",
      " Eigen vectors: \n",
      " [[-0.40824829 -0.40824829 -0.1846118 ]\n",
      " [-0.40824829  0.40824829 -0.78110113]\n",
      " [-0.81649658  0.81649658 -0.59648932]]\n"
     ]
    }
   ],
   "source": [
    "# Obtain Eigen values and Eigen vector for the given matrix\n",
    "# |1  -3  3|\n",
    "# |3  -5  3|\n",
    "# |6  -6  4|\n",
    "import numpy as np \n",
    "I = np.array([[1,-3,3], [3,-5,3], [6,-6,4]])\n",
    "print(\"\\n Given matrix: \\n\", I)\n",
    "w,v = np.linalg.eig(I)\n",
    "print(\"\\n Eigen values: \\n\", w)\n",
    "print(\"\\n Eigen vectors: \\n\", v)"
   ]
  }
 ],
 "metadata": {
  "kernelspec": {
   "display_name": "Python 3 (ipykernel)",
   "language": "python",
   "name": "python3"
  },
  "language_info": {
   "codemirror_mode": {
    "name": "ipython",
    "version": 3
   },
   "file_extension": ".py",
   "mimetype": "text/x-python",
   "name": "python",
   "nbconvert_exporter": "python",
   "pygments_lexer": "ipython3",
   "version": "3.9.7"
  }
 },
 "nbformat": 4,
 "nbformat_minor": 5
}
