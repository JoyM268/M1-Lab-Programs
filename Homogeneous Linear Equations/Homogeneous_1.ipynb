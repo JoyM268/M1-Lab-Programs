{
 "cells": [
  {
   "cell_type": "code",
   "execution_count": 2,
   "id": "9b683be3",
   "metadata": {},
   "outputs": [
    {
     "name": "stdout",
     "output_type": "stream",
     "text": [
      "system has trivial solution\n"
     ]
    }
   ],
   "source": [
    "#Check whether the following system of homogenous linear equation has non-trivial solution\n",
    "#x(1)+2x(2)-x(3) = 0; 2x(1)+x(2)+4x(3) = 0; 3x(1)+3x(2)+4x(3) = 0\n",
    "import numpy as np\n",
    "A = np.matrix([[1,2,-1],[2,1,4],[3,3,4]])\n",
    "B = np.matrix([[0],[0],[0]])\n",
    "r = np.linalg.matrix_rank(A)\n",
    "n = A.shape[1]\n",
    "if(r == n):\n",
    "    print(\"system has trivial solution\")\n",
    "else:\n",
    "    print(\"system has\",n-r,\"nontrivial solution(s)\")"
   ]
  }
 ],
 "metadata": {
  "kernelspec": {
   "display_name": "Python 3 (ipykernel)",
   "language": "python",
   "name": "python3"
  },
  "language_info": {
   "codemirror_mode": {
    "name": "ipython",
    "version": 3
   },
   "file_extension": ".py",
   "mimetype": "text/x-python",
   "name": "python",
   "nbconvert_exporter": "python",
   "pygments_lexer": "ipython3",
   "version": "3.9.7"
  }
 },
 "nbformat": 4,
 "nbformat_minor": 5
}
