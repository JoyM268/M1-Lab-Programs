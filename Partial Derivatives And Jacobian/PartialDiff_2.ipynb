{
 "cells": [
  {
   "cell_type": "code",
   "execution_count": 2,
   "id": "b3c013d0",
   "metadata": {},
   "outputs": [
    {
     "data": {
      "text/latex": [
       "$\\displaystyle \\left(x \\cos{\\left(y \\right)} - y \\sin{\\left(y \\right)}\\right) e^{x}$"
      ],
      "text/plain": [
       "(x*cos(y) - y*sin(y))*exp(x)"
      ]
     },
     "metadata": {},
     "output_type": "display_data"
    },
    {
     "name": "stdout",
     "output_type": "stream",
     "text": [
      "Ans: 0.0\n"
     ]
    }
   ],
   "source": [
    "#Prove that if u = exp(x)(x cos(y) - y sin(y)) then Uxx + Uyy = 0.\n",
    "\n",
    "from sympy import *\n",
    "\n",
    "x,y = symbols ('x y')\n",
    "\n",
    "u = exp(x)*(x*cos (y)-y*sin(y))\n",
    "\n",
    "display (u)\n",
    "\n",
    "dux=diff (u,x)\n",
    "\n",
    "duy=diff(u,y)\n",
    "\n",
    "uxx=diff (dux,x)\n",
    "\n",
    "uyy=diff(duy,y) \n",
    "\n",
    "w=uxx+uyy \n",
    "\n",
    "w1=simplify (w) \n",
    "\n",
    "print('Ans:',float (w1))"
   ]
  }
 ],
 "metadata": {
  "kernelspec": {
   "display_name": "Python 3 (ipykernel)",
   "language": "python",
   "name": "python3"
  },
  "language_info": {
   "codemirror_mode": {
    "name": "ipython",
    "version": 3
   },
   "file_extension": ".py",
   "mimetype": "text/x-python",
   "name": "python",
   "nbconvert_exporter": "python",
   "pygments_lexer": "ipython3",
   "version": "3.9.7"
  }
 },
 "nbformat": 4,
 "nbformat_minor": 5
}
