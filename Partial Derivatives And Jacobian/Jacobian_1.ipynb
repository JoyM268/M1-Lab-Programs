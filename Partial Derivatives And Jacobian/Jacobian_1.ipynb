{
 "cells": [
  {
   "cell_type": "code",
   "execution_count": 13,
   "id": "c552285f",
   "metadata": {},
   "outputs": [
    {
     "name": "stdout",
     "output_type": "stream",
     "text": [
      "The Jacobian matrix is \n",
      "\n"
     ]
    },
    {
     "data": {
      "text/latex": [
       "$\\displaystyle \\left[\\begin{matrix}\\frac{y}{z} & \\frac{x}{z} & - \\frac{x y}{z^{2}}\\\\- \\frac{y z}{x^{2}} & \\frac{z}{x} & \\frac{y}{x}\\\\\\frac{z}{y} & - \\frac{x z}{y^{2}} & \\frac{x}{y}\\end{matrix}\\right]$"
      ],
      "text/plain": [
       "Matrix([\n",
       "[      y/z,       x/z, -x*y/z**2],\n",
       "[-y*z/x**2,       z/x,       y/x],\n",
       "[      z/y, -x*z/y**2,       x/y]])"
      ]
     },
     "metadata": {},
     "output_type": "display_data"
    },
    {
     "name": "stdout",
     "output_type": "stream",
     "text": [
      "\n",
      "\n",
      " J = 4\n"
     ]
    }
   ],
   "source": [
    "#If u = xy / z, v = yz / x, w = zx / y then prove that J = 4\n",
    "from sympy import *\n",
    "x, y, z = symbols ('x, y, z')\n",
    "\n",
    "u = x*y / z\n",
    "\n",
    "v = y*z / x\n",
    "\n",
    "w = z*x / y\n",
    "\n",
    "dux=diff(u,x)\n",
    "\n",
    "duy=diff(u,y)\n",
    "\n",
    "duz=diff (u,z)\n",
    "\n",
    "dvx=diff (v, x)\n",
    "\n",
    "dvy=diff (v,y) \n",
    "\n",
    "dvz=diff (v,z)\n",
    "\n",
    "dwx=diff(w,x) \n",
    "\n",
    "dwy=diff (w,y)\n",
    "\n",
    "dwz=diff(w,z)\n",
    "\n",
    "J=Matrix([[dux, duy, duz], [dvx, dvy, dvz], [dwx, dwy, dwz]]);\n",
    "\n",
    "print(\"The Jacobian matrix is \\n\")\n",
    "display (J)\n",
    "\n",
    "\n",
    "Jac=det (J). doit ()\n",
    "print ('\\n\\n J =' , Jac)"
   ]
  }
 ],
 "metadata": {
  "kernelspec": {
   "display_name": "Python 3 (ipykernel)",
   "language": "python",
   "name": "python3"
  },
  "language_info": {
   "codemirror_mode": {
    "name": "ipython",
    "version": 3
   },
   "file_extension": ".py",
   "mimetype": "text/x-python",
   "name": "python",
   "nbconvert_exporter": "python",
   "pygments_lexer": "ipython3",
   "version": "3.9.7"
  }
 },
 "nbformat": 4,
 "nbformat_minor": 5
}
