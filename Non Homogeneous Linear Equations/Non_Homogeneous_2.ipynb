{
 "cells": [
  {
   "cell_type": "code",
   "execution_count": 3,
   "id": "34c0126e",
   "metadata": {
    "scrolled": true
   },
   "outputs": [
    {
     "name": "stdout",
     "output_type": "stream",
     "text": [
      "the system of equations is inconsistent\n"
     ]
    }
   ],
   "source": [
    "#Examine the consistency of the following system of equation\n",
    "#x(1)+2x(2)-x(3) = 0; 2x(1)+x(2)+5x(3) = 0; 3x(1)-3x(2)+4x(3) = 0\n",
    "import numpy as np\n",
    "A = np.matrix([[1,2,-1], [2,1,5], [3,3,4]])\n",
    "B = np.matrix([[1],[2],[1]])\n",
    "AB = np.concatenate ((A,B), axis=1)\n",
    "rA = np.linalg.matrix_rank(A)\n",
    "rAB = np.linalg.matrix_rank(AB)\n",
    "n = A.shape[1]\n",
    "if(rA == rAB):\n",
    "    if(rA == n):\n",
    "        print(\"the system has unique solution\")\n",
    "        print(np.linalg.solve(A,B))\n",
    "    else:\n",
    "        print(\"the system has infinitely many solutions\")\n",
    "else:\n",
    "    print(\"the system of equations is inconsistent\")"
   ]
  }
 ],
 "metadata": {
  "kernelspec": {
   "display_name": "Python 3 (ipykernel)",
   "language": "python",
   "name": "python3"
  },
  "language_info": {
   "codemirror_mode": {
    "name": "ipython",
    "version": 3
   },
   "file_extension": ".py",
   "mimetype": "text/x-python",
   "name": "python",
   "nbconvert_exporter": "python",
   "pygments_lexer": "ipython3",
   "version": "3.9.7"
  }
 },
 "nbformat": 4,
 "nbformat_minor": 5
}
