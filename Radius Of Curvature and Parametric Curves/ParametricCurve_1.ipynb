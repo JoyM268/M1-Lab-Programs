{
 "cells": [
  {
   "cell_type": "code",
   "execution_count": 6,
   "id": "f064bc17",
   "metadata": {},
   "outputs": [
    {
     "name": "stdout",
     "output_type": "stream",
     "text": [
      "Radius of curvature is\n"
     ]
    },
    {
     "data": {
      "text/latex": [
       "$\\displaystyle - a \\left(\\frac{1}{\\sin^{2}{\\left(t \\right)}}\\right)^{0.5} \\sin{\\left(t \\right)}$"
      ],
      "text/plain": [
       "-a*(sin(t)**(-2))**0.5*sin(t)"
      ]
     },
     "metadata": {},
     "output_type": "display_data"
    },
    {
     "name": "stdout",
     "output_type": "stream",
     "text": [
      "\n",
      "\n",
      "Radius of curvature at r=5 and t= pi/2 is -5\n",
      "\n",
      "\n",
      " Curvature at (5, pi/2) is -0.2\n"
     ]
    }
   ],
   "source": [
    "#Find radius of curvature of x = a * cos(t) y = asin(t)\n",
    "from sympy import *\n",
    "\n",
    "from sympy.abc import rho, x,y,r,k,t,a,b,c,alpha \n",
    "\n",
    "y=a*sin(t) \n",
    "\n",
    "x=a*cos(t)\n",
    "\n",
    "dydx=simplify(Derivative(y,t).doit())/simplify(Derivative (x,t).doit())\n",
    "\n",
    "\n",
    "rho=simplify((1+dydx**2)**1.5/(Derivative(dydx,t).doit ()/(Derivative(x,t).doit()))) \n",
    "\n",
    "print('Radius of curvature is') \n",
    "display(ratsimp(rho))\n",
    "\n",
    "t1=pi/2\n",
    "\n",
    "r1=5\n",
    "\n",
    "rho1=rho.subs(t,t1);\n",
    "\n",
    "rho2=rho1.subs (a,r1);\n",
    "\n",
    "print('\\n\\nRadius of curvature at r=5 and t= pi/2 is', simplify(rho2));\n",
    "\n",
    "curvature=1/rho2;\n",
    "\n",
    "print('\\n\\n Curvature at (5, pi/2) is', float (curvature))"
   ]
  }
 ],
 "metadata": {
  "kernelspec": {
   "display_name": "Python 3 (ipykernel)",
   "language": "python",
   "name": "python3"
  },
  "language_info": {
   "codemirror_mode": {
    "name": "ipython",
    "version": 3
   },
   "file_extension": ".py",
   "mimetype": "text/x-python",
   "name": "python",
   "nbconvert_exporter": "python",
   "pygments_lexer": "ipython3",
   "version": "3.9.7"
  }
 },
 "nbformat": 4,
 "nbformat_minor": 5
}
