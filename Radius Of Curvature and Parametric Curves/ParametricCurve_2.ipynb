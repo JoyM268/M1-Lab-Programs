{
 "cells": [
  {
   "cell_type": "code",
   "execution_count": 9,
   "id": "fad17500",
   "metadata": {},
   "outputs": [
    {
     "name": "stdout",
     "output_type": "stream",
     "text": [
      "Radius of curvature is\n"
     ]
    },
    {
     "data": {
      "text/latex": [
       "$\\displaystyle - \\frac{3.0 \\left(a \\cos{\\left(t \\right)}\\right)^{3.0} \\left(\\frac{\\left(a \\sin{\\left(t \\right)}\\right)^{3.0}}{\\left(a \\cos{\\left(t \\right)}\\right)^{3.0} \\tan^{4}{\\left(t \\right)}} + 1\\right)^{1.5} \\sin^{2}{\\left(t \\right)} \\tan^{2}{\\left(t \\right)}}{\\left(a \\sin{\\left(t \\right)}\\right)^{1.5}}$"
      ],
      "text/plain": [
       "-3.0*(a*cos(t))**3.0*((a*sin(t))**3.0/((a*cos(t))**3.0*tan(t)**4) + 1)**1.5*sin(t)**2*tan(t)**2/(a*sin(t))**1.5"
      ]
     },
     "metadata": {},
     "output_type": "display_data"
    },
    {
     "data": {
      "text/plain": [
       "'Radius of curvature at r = 1 and t = pi / 4 is'"
      ]
     },
     "metadata": {},
     "output_type": "display_data"
    },
    {
     "data": {
      "text/latex": [
       "$\\displaystyle -2.52268924576114$"
      ],
      "text/plain": [
       "-2.52268924576114"
      ]
     },
     "metadata": {},
     "output_type": "display_data"
    },
    {
     "name": "stdout",
     "output_type": "stream",
     "text": [
      "\n",
      "\n",
      "Curvature at (1,pi/4) is -0.39640237166757364\n"
     ]
    }
   ],
   "source": [
    "#Find the radius of curvature of y = (asin(t))^3/2; x = (acos(t))^3/2.\n",
    "\n",
    "from sympy import *\n",
    "\n",
    "from sympy. abc import rho, x,y,r,K,t,a,b,c, alpha\n",
    "\n",
    "y= (a*sin(t))**(3/2)\n",
    "\n",
    "x= (a*cos(t))**(3/2)\n",
    "\n",
    "dydx=simplify(Derivative(y,t).doit())/simplify(Derivative(x,t).doit())\n",
    "rho=simplify((1+dydx**2)**1.5/(Derivative(dydx,t).doit()/(Derivative(x,t).doit())))\n",
    "\n",
    "print('Radius of curvature is')\n",
    "display(ratsimp(rho))\n",
    "\n",
    "t1=pi/4\n",
    "r1=1;\n",
    "\n",
    "rho1=rho.subs(t,t1);\n",
    "rho2=rho1.subs(a,r1);\n",
    "display('Radius of curvature at r = 1 and t = pi / 4 is', simplify(rho2));\n",
    "curvature= 1/rho2;\n",
    "print ('\\n\\nCurvature at (1,pi/4) is', float (curvature))"
   ]
  }
 ],
 "metadata": {
  "kernelspec": {
   "display_name": "Python 3 (ipykernel)",
   "language": "python",
   "name": "python3"
  },
  "language_info": {
   "codemirror_mode": {
    "name": "ipython",
    "version": 3
   },
   "file_extension": ".py",
   "mimetype": "text/x-python",
   "name": "python",
   "nbconvert_exporter": "python",
   "pygments_lexer": "ipython3",
   "version": "3.9.7"
  }
 },
 "nbformat": 4,
 "nbformat_minor": 5
}
