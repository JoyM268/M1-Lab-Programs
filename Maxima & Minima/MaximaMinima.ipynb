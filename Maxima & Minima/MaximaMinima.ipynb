{
 "cells": [
  {
   "cell_type": "code",
   "execution_count": 4,
   "id": "83a1ed77",
   "metadata": {},
   "outputs": [
    {
     "name": "stdout",
     "output_type": "stream",
     "text": [
      "function value is \n",
      "4 2.00000000000000\n",
      "f takes minimum\n"
     ]
    }
   ],
   "source": [
    "#Find the Maxima and minima of f(x, y) = x ^ 2 + y ^ 2 + 3x - 3y + 4\n",
    "\n",
    "import sympy\n",
    "\n",
    "from sympy import Symbol, solve, Derivative, pprint\n",
    "\n",
    "x=Symbol('x')\n",
    "\n",
    "y=Symbol('y')\n",
    "\n",
    "f=x**2+y**2+3*x-3*y+4\n",
    "d1=Derivative(f,x).doit()\n",
    "\n",
    "d2=Derivative(f,y).doit()\n",
    "\n",
    "criticalpoints1=solve(d1)\n",
    "\n",
    "criticalpoints2=solve(d2)\n",
    "\n",
    "s1=Derivative(f,x,2).doit ()\n",
    "\n",
    "s2=Derivative(f,y,2).doit ()\n",
    "\n",
    "s3=Derivative(Derivative(f,y),x).doit ()\n",
    "\n",
    "print('function value is ')\n",
    "q1=s1.subs({y: criticalpoints1,x: criticalpoints2}).evalf() \n",
    "q2=s2.subs({y: criticalpoints1,x: criticalpoints2}).evalf()\n",
    "q3=s3.subs({y: criticalpoints1,x: criticalpoints2}).evalf()\n",
    "\n",
    "delta=s1*s2-s3**2\n",
    "print(delta,q1)\n",
    "\n",
    "if(delta>0 and q1<0):\n",
    "    print(\"f takes maximum \")\n",
    "elif(delta>0 and q1>0):\n",
    "    print(\"f takes minimum\")\n",
    "\n",
    "if(delta <0):\n",
    "    print (\"The point is a saddle point\") \n",
    "if(delta ==0):\n",
    "    print (\"further tests required\")\n"
   ]
  }
 ],
 "metadata": {
  "kernelspec": {
   "display_name": "Python 3 (ipykernel)",
   "language": "python",
   "name": "python3"
  },
  "language_info": {
   "codemirror_mode": {
    "name": "ipython",
    "version": 3
   },
   "file_extension": ".py",
   "mimetype": "text/x-python",
   "name": "python",
   "nbconvert_exporter": "python",
   "pygments_lexer": "ipython3",
   "version": "3.9.7"
  }
 },
 "nbformat": 4,
 "nbformat_minor": 5
}
