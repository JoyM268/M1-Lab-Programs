{
 "cells": [
  {
   "cell_type": "code",
   "execution_count": 1,
   "id": "b335d521",
   "metadata": {},
   "outputs": [
    {
     "name": "stdout",
     "output_type": "stream",
     "text": [
      "Eigenvalue: 7.999988555930031\n",
      "Eigenvector: [ 1.         -0.49999785  0.50000072]\n"
     ]
    }
   ],
   "source": [
    "# Compute numerically largest eigen value of\n",
    "#     | 6  -2  2|\n",
    "# P = |-2  3  -1| by power method\n",
    "#     | 2  -1  3|\n",
    "import numpy as np\n",
    "def normalize(x):\n",
    "    fac = abs(x).max()\n",
    "    x_n = x / x.max()\n",
    "    return fac, x_n\n",
    "x = np.array([1,1,1])\n",
    "a = np.array([[6,-2,2], [-2,3,-1], [2,-1,3]])\n",
    "for i in range (10):\n",
    "    x = np.dot (a, x)\n",
    "    lambda_1, x = normalize(x)\n",
    "print('Eigenvalue:', lambda_1)\n",
    "print('Eigenvector:', x)"
   ]
  }
 ],
 "metadata": {
  "kernelspec": {
   "display_name": "Python 3 (ipykernel)",
   "language": "python",
   "name": "python3"
  },
  "language_info": {
   "codemirror_mode": {
    "name": "ipython",
    "version": 3
   },
   "file_extension": ".py",
   "mimetype": "text/x-python",
   "name": "python",
   "nbconvert_exporter": "python",
   "pygments_lexer": "ipython3",
   "version": "3.9.7"
  }
 },
 "nbformat": 4,
 "nbformat_minor": 5
}
