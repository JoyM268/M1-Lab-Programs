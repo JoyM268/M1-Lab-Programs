{
 "cells": [
  {
   "cell_type": "code",
   "execution_count": 5,
   "id": "3fb89787",
   "metadata": {},
   "outputs": [
    {
     "name": "stdout",
     "output_type": "stream",
     "text": [
      "The radius of curvature is 3.7712 units \n"
     ]
    }
   ],
   "source": [
    "#Find the radius of curvature, r = 4(1 + cos t) at t = pi / 2\n",
    "\n",
    "from sympy import *\n",
    "\n",
    "r=Symbol('r')\n",
    "t=Symbol('t')\n",
    "\n",
    "r=4*(1+cos(t))\n",
    "r1=Derivative(r,t).doit ()\n",
    "r2=Derivative(r1,t).doit ()\n",
    "rho=(r**2+r1**2)**(1.5)/(r**2+2*r1**2-r*r2);\n",
    "\n",
    "rho1=rho.subs(t, pi/2)\n",
    "print('The radius of curvature is %0.4f units '%rho1)"
   ]
  }








 ],
 "metadata": {
  "kernelspec": {
   "display_name": "Python 3 (ipykernel)",
   "language": "python",
   "name": "python3"
  },
  "language_info": {
   "codemirror_mode": {
    "name": "ipython",
    "version": 3
   },
   "file_extension": ".py",
   "mimetype": "text/x-python",
   "name": "python",
   "nbconvert_exporter": "python",
   "pygments_lexer": "ipython3",
   "version": "3.9.7"
  }
 },
 "nbformat": 4,
 "nbformat_minor": 5
}
