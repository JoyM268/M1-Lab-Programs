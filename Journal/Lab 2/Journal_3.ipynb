{
 "cells": [
  {
   "cell_type": "code",
   "execution_count": 3,
   "id": "f6432c71",
   "metadata": {},
   "outputs": [
    {
     "name": "stdout",
     "output_type": "stream",
     "text": [
      "The radius of curvature is\n"
     ]
    },
    {
     "data": {
      "text/latex": [
       "$\\displaystyle \\frac{\\left(a^{2}\\right)^{1.5}}{2 a^{2}}$"
      ],
      "text/plain": [
       "(a**2)**1.5/(2*a**2)"
      ]
     },
     "metadata": {},
     "output_type": "display_data"
    }
   ],
   "source": [
    "#Find the radius of curvature for r = asin(nt) at t = pi / 2 and n = 1\n",
    "\n",
    "from sympy import *\n",
    "\n",
    "t,r,a,n=symbols ('t r a n')\n",
    "\n",
    "r=a*sin(n*t)\n",
    "\n",
    "r1=Derivative(r,t).doit ()\n",
    "\n",
    "r2=Derivative(r1,t).doit ()\n",
    "\n",
    "rho=(r**2+r1**2)**(1.5)/(r**2+2*r1**2-r*r2);\n",
    "\n",
    "rho1=rho.subs(t,pi/2)\n",
    "\n",
    "rho1=rho1.subs(n,1)\n",
    "\n",
    "print(\"The radius of curvature is\") \n",
    "display(simplify(rho1))"
   ]
  }
 ],
 "metadata": {
  "kernelspec": {
   "display_name": "Python 3 (ipykernel)",
   "language": "python",
   "name": "python3"
  },
  "language_info": {
   "codemirror_mode": {
    "name": "ipython",
    "version": 3
   },
   "file_extension": ".py",
   "mimetype": "text/x-python",
   "name": "python",
   "nbconvert_exporter": "python",
   "pygments_lexer": "ipython3",
   "version": "3.9.7"
  }
 },
 "nbformat": 4,
 "nbformat_minor": 5
}
