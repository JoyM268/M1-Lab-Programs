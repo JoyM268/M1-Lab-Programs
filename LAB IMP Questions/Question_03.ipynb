{
 "cells": [
  {
   "cell_type": "code",
   "execution_count": 1,
   "id": "df30ff97",
   "metadata": {},
   "outputs": [
    {
     "name": "stdout",
     "output_type": "stream",
     "text": [
      "Mixed partial derivatives are equal\n"
     ]
    }
   ],
   "source": [
    "#Prove that mixed partial derivatives, Uxy = Uyx for u = exp(x)(xcos(y)-ysin(y))\n",
    "\n",
    "from sympy import *\n",
    "x,y=symbols ('x y')\n",
    "u=exp(x)*(x*cos(y)-y*sin(y))\n",
    "dux=diff(u,x)\n",
    "duy=diff(u,y)\n",
    "duxy=diff(dux,y)\n",
    "duyx=diff(duy,x)\n",
    "if duxy==duyx:\n",
    "\n",
    "    print('Mixed partial derivatives are equal')\n",
    "else:\n",
    "    print('Mixed partial derivatives are not equal')"
   ]
  }
 ],
 "metadata": {
  "kernelspec": {
   "display_name": "Python 3 (ipykernel)",
   "language": "python",
   "name": "python3"
  },
  "language_info": {
   "codemirror_mode": {
    "name": "ipython",
    "version": 3
   },
   "file_extension": ".py",
   "mimetype": "text/x-python",
   "name": "python",
   "nbconvert_exporter": "python",
   "pygments_lexer": "ipython3",
   "version": "3.9.7"
  }
 },
 "nbformat": 4,
 "nbformat_minor": 5
}
