{
 "cells": [
  {
   "cell_type": "code",
   "execution_count": 5,
   "id": "903f6e89",
   "metadata": {},
   "outputs": [
    {
     "data": {
      "image/png": "[encoded data removed]",
      "text/latex": [
       "$\\displaystyle \\left[ y{\\left(x \\right)} = - \\sqrt{\\frac{1}{C_{1} - 2 \\sin{\\left(x \\right)}}} \\cos{\\left(x \\right)}, \\  y{\\left(x \\right)} = \\sqrt{\\frac{1}{C_{1} - 2 \\sin{\\left(x \\right)}}} \\cos{\\left(x \\right)}\\right]$"
      ],
      "text/plain": [
       "⎡            _______________                    _______________  \n",
       "⎢           ╱       1                          ╱       1         \n",
       "⎢y(x) = -  ╱  ───────────── ⋅cos(x), y(x) =   ╱  ───────────── ⋅c\n",
       "⎣        ╲╱   C₁ - 2⋅sin(x)                 ╲╱   C₁ - 2⋅sin(x)   \n",
       "\n",
       "     ⎤\n",
       "     ⎥\n",
       "os(x)⎥\n",
       "     ⎦"
      ]
     },
     "metadata": {},
     "output_type": "display_data"
    }
   ],
   "source": [
    "#dy/dx + ytanx - y^3 secx = 0\n",
    "from sympy import *\n",
    "x,y = symbols('x,y')\n",
    "y = Function(\"y\")(x)\n",
    "y1 = Derivative(y,x)\n",
    "z1 = dsolve(Eq(y1+y*tan(x)-y**3*sec(x)),y)\n",
    "display(z1)"
   ]
  }
 ],
 "metadata": {
  "kernelspec": {
   "display_name": "Python 3 (ipykernel)",
   "language": "python",
   "name": "python3"
  },
  "language_info": {
   "codemirror_mode": {
    "name": "ipython",
    "version": 3
   },
   "file_extension": ".py",
   "mimetype": "text/x-python",
   "name": "python",
   "nbconvert_exporter": "python",
   "pygments_lexer": "ipython3",
   "version": "3.9.7"
  }
 },
 "nbformat": 4,
 "nbformat_minor": 5
}
