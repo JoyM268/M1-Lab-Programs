{
 "cells": [
  {
   "cell_type": "code",
   "execution_count": 1,
   "id": "945e3949",
   "metadata": {},
   "outputs": [
    {
     "name": "stdout",
     "output_type": "stream",
     "text": [
      "Angle between curves in radians is 1.571\n"
     ]
    }
   ],
   "source": [
    "#Find the angle between the curves r = 4(1 + cos t) and r = 5(1 - cos t)\n",
    "\n",
    "from sympy import *\n",
    "r,t=symbols ('r,t')\n",
    "r1=4*(1+cos(t));   \n",
    "r2=5*(1-cos(t));\n",
    "dr1=diff(r1, t)\n",
    "dr2=diff(r2, t)\n",
    "t1=r1/dr1\n",
    "t2=r2/dr2\n",
    "q=solve(r1-r2,t)\n",
    "w1=t1.subs({t: float (q[1])})\n",
    "w2=t2.subs({t: float (q[1])})\n",
    "y1=atan(w1)\n",
    "y2=atan(w2)\n",
    "w=abs(y1-y2)\n",
    "print('Angle between curves in radians is %0.3f'%(w))"
   ]
  }
 ],
 "metadata": {
  "kernelspec": {
   "display_name": "Python 3 (ipykernel)",
   "language": "python",
   "name": "python3"
  },
  "language_info": {
   "codemirror_mode": {
    "name": "ipython",
    "version": 3
   },
   "file_extension": ".py",
   "mimetype": "text/x-python",
   "name": "python",
   "nbconvert_exporter": "python",
   "pygments_lexer": "ipython3",
   "version": "3.9.7"
  }
 },
 "nbformat": 4,
 "nbformat_minor": 5
}
