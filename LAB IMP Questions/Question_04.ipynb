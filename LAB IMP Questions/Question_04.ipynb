{
 "cells": [
  {
   "cell_type": "code",
   "execution_count": 1,
   "id": "dc7b5f2e",
   "metadata": {},
   "outputs": [
    {
     "data": {
      "text/latex": [
       "$\\displaystyle \\left(x \\cos{\\left(y \\right)} - y \\sin{\\left(y \\right)}\\right) e^{x}$"
      ],
      "text/plain": [
       "(x*cos(y) - y*sin(y))*exp(x)"
      ]
     },
     "metadata": {},
     "output_type": "display_data"
    },
    {
     "name": "stdout",
     "output_type": "stream",
     "text": [
      "Ans: 0.0\n"
     ]
    }
   ],
   "source": [
    "#Prove that if u = e^x(xcos(y) - ysin(y)) then Uxx + Uyy = 0.\n",
    "from sympy import *\n",
    "x,y=symbols ('x y')\n",
    "u=exp(x)*(x*cos(y)-y*sin(y))\n",
    "display(u)\n",
    "dux=diff(u,x)\n",
    "duy=diff(u,y)\n",
    "uxx=diff(dux,x)\n",
    "uyy=diff(duy,y) \n",
    "w=uxx+uyy    \n",
    "w1=simplify (w)\n",
    "print ('Ans:', float (w1))"
   ]
  }
 ],
 "metadata": {
  "kernelspec": {
   "display_name": "Python 3 (ipykernel)",
   "language": "python",
   "name": "python3"
  },
  "language_info": {
   "codemirror_mode": {
    "name": "ipython",
    "version": 3
   },
   "file_extension": ".py",
   "mimetype": "text/x-python",
   "name": "python",
   "nbconvert_exporter": "python",
   "pygments_lexer": "ipython3",
   "version": "3.9.7"
  }
 },
 "nbformat": 4,
 "nbformat_minor": 5
}
