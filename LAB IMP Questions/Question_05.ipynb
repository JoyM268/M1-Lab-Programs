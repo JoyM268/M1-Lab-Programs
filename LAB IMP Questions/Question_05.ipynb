{
 "cells": [
  {
   "cell_type": "code",
   "execution_count": 2,
   "id": "1abef2b0",
   "metadata": {},
   "outputs": [
    {
     "name": "stdout",
     "output_type": "stream",
     "text": [
      "The Jacobian matrix is \n"
     ]
    },
    {
     "data": {
      "text/latex": [
       "$\\displaystyle \\left[\\begin{matrix}1 & 6 y & - 3 z^{2}\\\\8 x y z & 4 x^{2} z & 4 x^{2} y\\\\- y & - x & 4 z\\end{matrix}\\right]$"
      ],
      "text/plain": [
       "Matrix([\n",
       "[      1,      6*y,  -3*z**2],\n",
       "[8*x*y*z, 4*x**2*z, 4*x**2*y],\n",
       "[     -y,       -x,      4*z]])"
      ]
     },
     "metadata": {},
     "output_type": "display_data"
    },
    {
     "name": "stdout",
     "output_type": "stream",
     "text": [
      "\n",
      "\n",
      " J = \n",
      "\n"
     ]
    },
    {
     "data": {
      "text/latex": [
       "$\\displaystyle 4 x^{3} y - 24 x^{2} y^{3} + 12 x^{2} y z^{3} + 16 x^{2} z^{2} - 192 x y^{2} z^{2}$"
      ],
      "text/plain": [
       "4*x**3*y - 24*x**2*y**3 + 12*x**2*y*z**3 + 16*x**2*z**2 - 192*x*y**2*z**2"
      ]
     },
     "metadata": {},
     "output_type": "display_data"
    },
    {
     "name": "stdout",
     "output_type": "stream",
     "text": [
      "\n",
      "\n",
      " J at (1,-1,0):\n",
      "\n"
     ]
    },
    {
     "data": {
      "text/latex": [
       "$\\displaystyle 20$"
      ],
      "text/plain": [
       "20"
      ]
     },
     "metadata": {},
     "output_type": "display_data"
    }
   ],
   "source": [
    "# u=x+3y^2-z^3, v=4x^2*yz, w=2z^2-xy then prove that at (1,-1,0), J = 20\n",
    "\n",
    "from sympy import *\n",
    "\n",
    "x,y,z=symbols('x,y,z')\n",
    "\n",
    "u=x+3*y**2-z**3\n",
    "v=4*x**2*y*z\n",
    "w=2*z**2-x*y\n",
    "\n",
    "dux=diff(u,x)\n",
    "duy=diff(u,y)\n",
    "duz=diff(u,z)\n",
    "\n",
    "dvx=diff(v,x)\n",
    "dvy=diff(v,y)\n",
    "dvz=diff(v,z)\n",
    "\n",
    "dwx=diff(w,x)\n",
    "dwy=diff(w,y)\n",
    "dwz=diff(w,z)\n",
    "\n",
    "J=Matrix([[dux, duy, duz], [dvx, dvy, dvz], [dwx, dwy, dwz]]);\n",
    "\n",
    "print(\"The Jacobian matrix is \")\n",
    "\n",
    "display(J)\n",
    "\n",
    "Jac=Determinant(J).doit() \n",
    "print('\\n\\n J = \\n')\n",
    "display (Jac)\n",
    "\n",
    "J1 = J.subs([(x, 1), (y, -1), (z, 0)])\n",
    "\n",
    "print('\\n\\n J at (1,-1,0):\\n')\n",
    "Jac1=Determinant(J1).doit ()\n",
    "display(Jac1)\n"
   ]
  }
 ],
 "metadata": {
  "kernelspec": {
   "display_name": "Python 3 (ipykernel)",
   "language": "python",
   "name": "python3"
  },
  "language_info": {
   "codemirror_mode": {
    "name": "ipython",
    "version": 3
   },
   "file_extension": ".py",
   "mimetype": "text/x-python",
   "name": "python",
   "nbconvert_exporter": "python",
   "pygments_lexer": "ipython3",
   "version": "3.9.7"
  }
 },
 "nbformat": 4,
 "nbformat_minor": 5
}
